{
 "cells": [
  {
   "cell_type": "code",
   "execution_count": 29,
   "metadata": {},
   "outputs": [
    {
     "name": "stdout",
     "output_type": "stream",
     "text": [
      "The autoreload extension is already loaded. To reload it, use:\n",
      "  %reload_ext autoreload\n"
     ]
    }
   ],
   "source": [
    "# Run this every time you open the spreadsheet\n",
    "% load_ext autoreload\n",
    "% autoreload 2\n",
    "import lib\n"
   ]
  },
  {
   "cell_type": "markdown",
   "metadata": {},
   "source": [
    "# Load the data and our rule-based classifier"
   ]
  },
  {
   "cell_type": "code",
   "execution_count": 31,
   "metadata": {},
   "outputs": [
    {
     "name": "stdout",
     "output_type": "stream",
     "text": [
      "[nltk_data] Downloading package punkt to\n",
      "[nltk_data]     /Users/piaochuxin/nltk_data...\n",
      "[nltk_data]   Unzipping tokenizers/punkt.zip.\n"
     ]
    }
   ],
   "source": [
    "# Load the data.\n",
    "# This function returns \"tweets\" and \"test_tweets\", both lists of tweets\n",
    "import nltk\n",
    "nltk.download('punkt')\n",
    "tweets, test_tweets = lib.read_data()"
   ]
  },
  {
   "cell_type": "code",
   "execution_count": 27,
   "metadata": {},
   "outputs": [],
   "source": [
    "def classify_rb(tweet):\n",
    "    tweet = str(tweet).lower()  # this makes the tweet lower-case, so we don't have to worry about matching case\n",
    "\n",
    "    if \"medicine\" in tweet or \"first aid\" in tweet:\n",
    "        return \"Medical\"\n",
    "    elif \"power\" in tweet or \"battery\" in tweet:\n",
    "        return \"Energy\"\n",
    "    elif \"water\" in tweet or \"bottled\" in tweet:\n",
    "        return \"Water\"\n",
    "    elif \"food\" in tweet or \"perishable\" in tweet or \"canned\" in tweet:\n",
    "        return \"Food\"\n",
    "    else:\n",
    "        return \"None\"\n"
   ]
  },
  {
   "cell_type": "markdown",
   "metadata": {},
   "source": [
    "# Python refresher\n",
    "\n",
    "Let's review some Python concepts before we write our evaluation code.\n",
    "\n",
    "### Lists\n",
    "In Python, a _list_ is an ordered collection of items. The items can be strings, numbers, booleans, or any other kind of Python object. \n",
    "\n",
    "You can create lists like this:\n",
    "```\n",
    "integer_list = [5, 6, 7, 8]\n",
    "string_list = ['hello', 'world']\n",
    "bool_list = [False, True, False, False, True]\n",
    "```\n",
    "\n",
    "If you want a list of the numbers up to (but not including) 10, you can use the `range` function.\n",
    "```\n",
    "upto10_list = range(10)\n",
    "```\n",
    "This gives you [0, 1, 2, 3, 4, 5, 6, 7, 8, 9]."
   ]
  },
  {
   "cell_type": "code",
   "execution_count": 4,
   "metadata": {},
   "outputs": [
    {
     "name": "stdout",
     "output_type": "stream",
     "text": [
      "[0, 1, 2, 3, 4, 5, 6]\n"
     ]
    }
   ],
   "source": [
    "# Exercise 1(a).\n",
    "# Create a list called \"my_numbers\" that contains the numbers from 0 to 6 (inclusive), and then print it\n",
    "my_numbers=[0,1,2,3,4,5,6]\n",
    "print(my_numbers)\n"
   ]
  },
  {
   "cell_type": "code",
   "execution_count": 11,
   "metadata": {},
   "outputs": [
    {
     "name": "stdout",
     "output_type": "stream",
     "text": [
      "range(0, 7)\n"
     ]
    }
   ],
   "source": [
    "# Exercise 1(b).\n",
    "# Now use the range() function to create \"my_numbers\", and print the result.\n",
    "# It should match the previous cell.\n",
    "# Hint: look carefully at the range(10) example above.\n",
    "my_numbers = range(7)\n",
    "print(my_numbers)\n"
   ]
  },
  {
   "cell_type": "markdown",
   "metadata": {},
   "source": [
    "### For loops\n",
    "\n",
    "In Python, a _for loop_ allows you to iterate over a list.\n",
    "```\n",
    "shopping_list = ['bread', 'bananas', 'milk']\n",
    "\n",
    "for item in shopping_list:\n",
    "    print item\n",
    "```\n",
    "\n",
    "For example, the code above prints out the following output:\n",
    "\n",
    "```\n",
    "bread\n",
    "bananas\n",
    "milk\n",
    "```"
   ]
  },
  {
   "cell_type": "code",
   "execution_count": 14,
   "metadata": {},
   "outputs": [
    {
     "name": "stdout",
     "output_type": "stream",
     "text": [
      "0\n",
      "1\n",
      "4\n",
      "9\n",
      "16\n",
      "25\n",
      "36\n"
     ]
    }
   ],
   "source": [
    "# Exercise 2. \n",
    "# Write a for-loop that iterates through my_numbers, and prints the square of each number\n",
    "# You should see the following numbers print out, one per line: 0, 1, 4, 9, 16, 25, 36\n",
    "for item in my_numbers:\n",
    "    print(item**2)\n"
   ]
  },
  {
   "cell_type": "code",
   "execution_count": 17,
   "metadata": {},
   "outputs": [
    {
     "name": "stdout",
     "output_type": "stream",
     "text": [
      "Testing: sum_squares = 91\n",
      "CORRECT\n"
     ]
    }
   ],
   "source": [
    "# Exercise 3.\n",
    "# Use a for-loop to calculate the sum of the squares of my_numbers.\n",
    "# Save the result in a variable called \"sum_squares\".\n",
    "# Hint: start by setting sum_squares to 0 before starting the for-loop.\n",
    "\n",
    "#### YOUR CODE STARTS HERE ####\n",
    "sum_squares=0\n",
    "for item in my_numbers:\n",
    "    sum_squares+=item**2\n",
    "\n",
    "#### YOUR CODE ENDS HERE ####\n",
    "\n",
    "print(\"Testing: sum_squares = %i\" % sum_squares)\n",
    "print(\"CORRECT\" if sum_squares == 91 else \"INCORRECT\")\n"
   ]
  },
  {
   "cell_type": "markdown",
   "metadata": {},
   "source": [
    "### Incrementing\n",
    "\n",
    "If you have an integer variable e.g. `x=3` and you want to increase `x` by 1 (which is called _incrementing_), then you can write\n",
    "```\n",
    "x = x+1\n",
    "```\n",
    "or, in shorthand:\n",
    "```\n",
    "x += 1\n",
    "```\n",
    "\n",
    "This can be useful when you're using `x` to count something. For example:\n",
    "```\n",
    "ages = [7, 14, 23, 3, 10, 19]\n",
    "\n",
    "num_adults = 0\n",
    "for age in ages:\n",
    "    if age >= 18:\n",
    "        num_adults += 1\n",
    "\n",
    "print num_adults\n",
    "```\n",
    "What should this code print out?"
   ]
  },
  {
   "cell_type": "code",
   "execution_count": 20,
   "metadata": {},
   "outputs": [
    {
     "name": "stdout",
     "output_type": "stream",
     "text": [
      "Testing: num_weasleys = 5\n",
      "CORRECT\n"
     ]
    }
   ],
   "source": [
    "# Exercise 4.\n",
    "# Count the number of Weasleys in the list of characters, and save the result to the variable \"num_weasleys\".\n",
    "# Use incrementation with the \"x += 1\" notation.\n",
    "\n",
    "characters = ['Harry Potter', 'Ron Weasley', 'Albus Dumbledore', 'Ginny Weasley', 'Percy Weasley', 'Hermione Granger',\n",
    "              'Fred Weasley', 'George Weasley']\n",
    "\n",
    "#### YOUR CODE STARTS HERE ####\n",
    "num_weasleys=0\n",
    "for item in characters:\n",
    "    if \"Weasley\"in item:\n",
    "        num_weasleys+=1\n",
    "\n",
    "#### YOUR CODE ENDS HERE ####\n",
    "\n",
    "print(\"Testing: num_weasleys = %i\" % num_weasleys)\n",
    "print(\"CORRECT\" if num_weasleys == 5 else \"INCORRECT\")\n"
   ]
  },
  {
   "cell_type": "markdown",
   "metadata": {},
   "source": [
    "### Testing for equality and inequality\n",
    "\n",
    "Sometimes you want to check if two values are equal, perhaps using an `if` statement. \n",
    "To check for equality you need to use a _double_ equals sign `==`.\n",
    "```\n",
    "x = 5 \n",
    "y = 8\n",
    "if x == y:\n",
    "    print \"x and y are equal\"\n",
    "```\n",
    "To check for *inequality*, i.e. if two things aren't equal, use `!=`.\n",
    "```\n",
    "x = 5 \n",
    "y = 8\n",
    "if x != y:\n",
    "    print \"x and y are NOT equal\"\n",
    "```"
   ]
  },
  {
   "cell_type": "code",
   "execution_count": 22,
   "metadata": {},
   "outputs": [
    {
     "name": "stdout",
     "output_type": "stream",
     "text": [
      "Testing: num_cats = 4\n",
      "CORRECT\n"
     ]
    }
   ],
   "source": [
    "# Exercise 5.\n",
    "# Use a for-loop, incrementation and equality testing to count the number of cats in my list of pets. \n",
    "# Assign the result to the variable \"num_cats\"\n",
    "\n",
    "my_pets = ['cat', 'lizard', 'cat', 'dog', 'cat', 'snake', 'dog', 'cat', 'dog', 'parrot']\n",
    "\n",
    "#### YOUR CODE STARTS HERE ####\n",
    "num_cats=0\n",
    "for item in my_pets:\n",
    "    if \"cat\"==item:\n",
    "        num_cats+=1\n",
    "       \n",
    "\n",
    "#### YOUR CODE ENDS HERE ####\n",
    "\n",
    "print(\"Testing: num_cats = %i\" % num_cats)\n",
    "print(\"CORRECT\" if num_cats == 4 else \"INCORRECT\")\n"
   ]
  },
  {
   "cell_type": "code",
   "execution_count": 25,
   "metadata": {},
   "outputs": [
    {
     "name": "stdout",
     "output_type": "stream",
     "text": [
      "Testing: num_unusual = 3\n",
      "CORRECT\n"
     ]
    }
   ],
   "source": [
    "# Exercise 6.\n",
    "# Use a for-loop, incrementation and inequality testing to count the number of pets that are neither cats nor dogs.\n",
    "# Assign the result to the variable \"num_unusual\".\n",
    "\n",
    "#### YOUR CODE STARTS HERE ####\n",
    "num_unusual=0\n",
    "for item in my_pets:\n",
    "    if \"cat\"!=item and \"dog\"!=item:\n",
    "        num_unusual+=1\n",
    "\n",
    "#### YOUR CODE ENDS HERE ####\n",
    "\n",
    "print(\"Testing: num_unusual = %i\" % num_unusual)\n",
    "print(\"CORRECT\" if num_unusual == 3 else \"INCORRECT\")\n"
   ]
  },
  {
   "cell_type": "markdown",
   "metadata": {},
   "source": [
    "# Measure the accuracy of your rule-based classifier\n",
    "\n",
    "Complete the function below to calculate the Precision, Recall and F1 for a given category (e.g. Food)"
   ]
  },
  {
   "cell_type": "code",
   "execution_count": 37,
   "metadata": {},
   "outputs": [
    {
     "name": "stdout",
     "output_type": "stream",
     "text": [
      "Food\n",
      "Precision:  0.0\n",
      "Recall:  0.0\n",
      "F1:  0.0\n",
      "\n",
      "Water\n",
      "Precision:  0.0\n",
      "Recall:  0.0\n",
      "F1:  0.0\n",
      "\n",
      "Energy\n",
      "Precision:  0.0\n",
      "Recall:  0.0\n",
      "F1:  0.0\n",
      "\n",
      "Medical\n",
      "Precision:  0.0\n",
      "Recall:  0.0\n",
      "F1:  0.0\n",
      "\n",
      "None\n",
      "Precision:  0.0\n",
      "Recall:  0.0\n",
      "F1:  0.0\n",
      "\n"
     ]
    }
   ],
   "source": [
    "def evaluate(predictions, c):\n",
    "    \"\"\"This function calculate the precision, recall and F1 for a single category c (e.g. Food)\n",
    "    Inputs:\n",
    "        predictions: a list of (tweet, predicted_category) pairs\n",
    "        c: a category \n",
    "    Returns:\n",
    "        The F1 score.\n",
    "    \"\"\"\n",
    "\n",
    "    # Initialize variables to count the number of true positives, false positives and false negatives\n",
    "    true_positives = 0.0\n",
    "    false_positives = 0.0\n",
    "    false_negatives = 0.0\n",
    "    \n",
    "    # Iterate through the tweets, counting the number of true positives, false positives and false negatives\n",
    "    for (tweet, predicted_category) in predictions:\n",
    "        true_category = tweet.category\n",
    "\n",
    "        # Hint: true positives for category c are tweets that have \n",
    "        # true category c and predicted category c\n",
    "        if \"c\"==(tweet,predicted_category) and classify_rb(tweet)==\"c\":\n",
    "            true_positives += 1\n",
    "\n",
    "        # Finish the statement: false negatives for category c are tweets that have \n",
    "        # true category not c and predicted category not c\n",
    "        elif \"c\"!=(tweet,predicted_category) and classify_rb(tweet)!=\"c\":\n",
    "            false_negatives += 1\n",
    "\n",
    "        # Finish the statement: false positives for category c are tweets that have \n",
    "        # true category c and predicted category not c\n",
    "        elif \"c\"!=(tweet,predicted_category) and classify_rb(tweet)==\"c\":\n",
    "            false_positives += 1\n",
    "\n",
    "    # Before we calculate Precision, Recall and F1 we need to check whether true_positives = 0. Why?\n",
    "    if true_positives == 0:\n",
    "        precision = 0.0\n",
    "        recall = 0.0\n",
    "        f1 = 0.0\n",
    "    else:\n",
    "        # Calculate Precision, Recall and F1\n",
    "        # Consult the formulae on the slides\n",
    "        precision = true_positives/(false_positives+true_positives)\n",
    "        recall = true_positives/(false_negatives+true_positives)\n",
    "        f1 = 2*precision*recall/(precision+recall)\n",
    "\n",
    "    # Print the category name, Precision, Recall and F1\n",
    "    print(c)\n",
    "    print(\"Precision: \", precision)\n",
    "    print(\"Recall: \", recall)\n",
    "    print(\"F1: \", f1)\n",
    "    print(\"\")\n",
    "\n",
    "    # Return the F1 score\n",
    "    return f1\n",
    "\n",
    "\n",
    "predictions = [(tweet, classify_rb(tweet)) for tweet in test_tweets]  # Make a list of (tweet, predicted_category) pairs\n",
    "\n",
    "# Get the F1 scores for each category\n",
    "food_f1 = evaluate(predictions, \"Food\")\n",
    "water_f1 = evaluate(predictions, \"Water\")\n",
    "energy_f1 = evaluate(predictions, \"Energy\")\n",
    "medical_f1 = evaluate(predictions, \"Medical\")\n",
    "none_f1 = evaluate(predictions, \"None\")\n"
   ]
  },
  {
   "cell_type": "markdown",
   "metadata": {},
   "source": [
    "Complete the cell below to calculate the average F1 score, which should be the average of the F1 scores for each category."
   ]
  },
  {
   "cell_type": "code",
   "execution_count": 35,
   "metadata": {},
   "outputs": [
    {
     "name": "stdout",
     "output_type": "stream",
     "text": [
      "Average F1:  0.0\n"
     ]
    }
   ],
   "source": [
    "average_f1 = (food_f1+water_f1+energy_f1+medical_f1+none_f1)/5\n",
    "print(\"Average F1: \", average_f1)\n"
   ]
  },
  {
   "cell_type": "markdown",
   "metadata": {},
   "source": [
    "## Look at the confusion matrix\n",
    "\n",
    "* _Rows_ represent the _true category_ of the tweet\n",
    "* _Columns_ represent the _predicted category_ from your classifier\n",
    "* So numbers on the diagonal represent correct classifications, and off-diagonal numbers represent misclassification"
   ]
  },
  {
   "cell_type": "code",
   "execution_count": null,
   "metadata": {},
   "outputs": [],
   "source": [
    "lib.show_confusion_matrix(predictions)\n"
   ]
  },
  {
   "cell_type": "markdown",
   "metadata": {},
   "source": [
    "## Look at the predictions"
   ]
  },
  {
   "cell_type": "code",
   "execution_count": null,
   "metadata": {},
   "outputs": [],
   "source": [
    "lib.show_predictions(predictions)\n"
   ]
  }
 ],
 "metadata": {
  "anaconda-cloud": {},
  "kernelspec": {
   "display_name": "Python 3",
   "language": "python",
   "name": "python3"
  },
  "language_info": {
   "codemirror_mode": {
    "name": "ipython",
    "version": 3
   },
   "file_extension": ".py",
   "mimetype": "text/x-python",
   "name": "python",
   "nbconvert_exporter": "python",
   "pygments_lexer": "ipython3",
   "version": "3.6.4"
  }
 },
 "nbformat": 4,
 "nbformat_minor": 1
}
