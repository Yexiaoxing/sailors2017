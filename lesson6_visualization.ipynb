{
 "cells": [
  {
   "cell_type": "code",
   "execution_count": 1,
   "metadata": {},
   "outputs": [],
   "source": [
    "# Run this every time you open the spreadsheet\n",
    "%load_ext autoreload\n",
    "%autoreload 2\n",
    "from collections import Counter\n",
    "import lib\n",
    "import random"
   ]
  },
  {
   "cell_type": "markdown",
   "metadata": {},
   "source": [
    "## Optional Exercise: Add bigram capabilities to the classifier!\n",
    "\n",
    "So far our Naive Bayes classifier scores an Average F1 score of 66.9% on the test set.\n",
    "Let's see if we can improve on that by incorporating bigrams!\n"
   ]
  },
  {
   "cell_type": "code",
   "execution_count": 15,
   "metadata": {},
   "outputs": [
    {
     "name": "stdout",
     "output_type": "stream",
     "text": [
      "Checking if bigrams are correct...\n",
      "Bigrams are correct.\n",
      "\n",
      "Energy\n",
      "Precision:  60.0\n",
      "Recall:  67.5\n",
      "F1:  63.529411764705884\n",
      "\n",
      "Food\n",
      "Precision:  84.39716312056737\n",
      "Recall:  92.24806201550388\n",
      "F1:  88.14814814814815\n",
      "\n",
      "Medical\n",
      "Precision:  75.0\n",
      "Recall:  46.15384615384615\n",
      "F1:  57.14285714285714\n",
      "\n",
      "None\n",
      "Precision:  82.66666666666667\n",
      "Recall:  78.48101265822785\n",
      "F1:  80.51948051948052\n",
      "\n",
      "Water\n",
      "Precision:  83.33333333333333\n",
      "Recall:  50.0\n",
      "F1:  62.5\n",
      "\n",
      "Average F1:  70.36797951503834\n"
     ]
    }
   ],
   "source": [
    "def add_bigrams(tweet):\n",
    "# Currently, tweet has an attribute called tweet.tokenList which is a list of tokens.\n",
    "# You want to add a new attribute to tweet called tweet.bigramList which is a list of bigrams.\n",
    "# Each bigram should be a pair of strings. You can define the bigram like this: bigram = (token1, token2).\n",
    "# In Python, this is called a tuple. You can read more about tuples here: https://www.programiz.com/python-programming/tuple\n",
    "\n",
    "##### YOUR CODE STARTS HERE #####\n",
    "\n",
    "    tweet.bigramList = [(tweet.tokenList[i], tweet.tokenList[i + 1]) for i in range(len(tweet.tokenList) - 1)]\n",
    "\n",
    "##### YOUR CODE ENDS HERE #####\n",
    "\n",
    "\n",
    "tweets, test_tweets = lib.read_data()\n",
    "for tweet in tweets + test_tweets:\n",
    "    add_bigrams(tweet)\n",
    "print(\"Checking if bigrams are correct...\")\n",
    "for tweet in tweets + test_tweets:\n",
    "    assert tweet._bigramList == tweet.bigramList, \"Error in your implementation of the bigram list!\"\n",
    "print(\"Bigrams are correct.\\n\")\n",
    "\n",
    "prior_probs, token_probs = lib.learn_nb(tweets)\n",
    "predictions = [(tweet, lib.classify_nb(tweet, prior_probs, token_probs)) for tweet in test_tweets]\n",
    "lib.evaluate(predictions)\n"
   ]
  },
  {
   "cell_type": "markdown",
   "metadata": {},
   "source": [
    "## Re-run the classifier and get evaluation score\n",
    "\n",
    "This notebook uses our implementation of the Naive Bayes classifier, but it's very similar to what you implemented yesterday. If you're interested in the details, take a look at the `learn_nb` and `classify_nb` functions in `lib.py` in the `sailors2017` directory."
   ]
  },
  {
   "cell_type": "code",
   "execution_count": 10,
   "metadata": {},
   "outputs": [
    {
     "name": "stdout",
     "output_type": "stream",
     "text": [
      "Energy\n",
      "Precision:  60.0\n",
      "Recall:  67.5\n",
      "F1:  63.529411764705884\n",
      "\n",
      "Food\n",
      "Precision:  84.39716312056737\n",
      "Recall:  92.24806201550388\n",
      "F1:  88.14814814814815\n",
      "\n",
      "Medical\n",
      "Precision:  75.0\n",
      "Recall:  46.15384615384615\n",
      "F1:  57.14285714285714\n",
      "\n",
      "None\n",
      "Precision:  82.66666666666667\n",
      "Recall:  78.48101265822785\n",
      "F1:  80.51948051948052\n",
      "\n",
      "Water\n",
      "Precision:  83.33333333333333\n",
      "Recall:  50.0\n",
      "F1:  62.5\n",
      "\n",
      "Average F1:  70.36797951503834\n"
     ]
    }
   ],
   "source": [
    "tweets, test_tweets = lib.read_data()\n",
    "prior_probs, token_probs = lib.learn_nb(tweets)\n",
    "predictions = [(tweet, lib.classify_nb(tweet, prior_probs, token_probs)) for tweet in test_tweets]\n",
    "lib.evaluate(predictions)\n"
   ]
  },
  {
   "cell_type": "markdown",
   "metadata": {},
   "source": [
    "## Inspecting the Classifier\n",
    "\n",
    "After implementing and training a classifier, you often want to inspect what kind of things it has learned and how it is making predictions on individual examples. This can help you make sure that you implemented everything correctly and it might give you ideas on how to further improve the classifier.\n",
    "\n",
    "### Most discriminative words\n",
    "\n",
    "Let's first look again at the most discriminative words for each category, i.e. the words that maximize P(category|word), for each category."
   ]
  },
  {
   "cell_type": "code",
   "execution_count": 16,
   "metadata": {},
   "outputs": [
    {
     "name": "stdout",
     "output_type": "stream",
     "text": [
      "MOST DISCRIMINATIVE TOKENS: \n",
      "\n",
      "TOKEN                P(Energy|token)\n"
     ]
    },
    {
     "ename": "TypeError",
     "evalue": "unsupported format string passed to bytes.__format__",
     "output_type": "error",
     "traceback": [
      "\u001b[0;31m---------------------------------------------------------------------------\u001b[0m",
      "\u001b[0;31mTypeError\u001b[0m                                 Traceback (most recent call last)",
      "\u001b[0;32m<ipython-input-16-e276dd8435c4>\u001b[0m in \u001b[0;36m<module>\u001b[0;34m()\u001b[0m\n\u001b[0;32m----> 1\u001b[0;31m \u001b[0mlib\u001b[0m\u001b[0;34m.\u001b[0m\u001b[0mmost_discriminative\u001b[0m\u001b[0;34m(\u001b[0m\u001b[0mtweets\u001b[0m\u001b[0;34m,\u001b[0m \u001b[0mtoken_probs\u001b[0m\u001b[0;34m,\u001b[0m \u001b[0mprior_probs\u001b[0m\u001b[0;34m)\u001b[0m\u001b[0;34m\u001b[0m\u001b[0m\n\u001b[0m",
      "\u001b[0;32m~/Downloads/sailors2017-master/lib.py\u001b[0m in \u001b[0;36mmost_discriminative\u001b[0;34m(tweets, token_probs, prior_probs)\u001b[0m\n\u001b[1;32m    145\u001b[0m         \u001b[0mprint\u001b[0m\u001b[0;34m(\u001b[0m\u001b[0;34m\"{0:20} {1:10}\"\u001b[0m\u001b[0;34m.\u001b[0m\u001b[0mformat\u001b[0m\u001b[0;34m(\u001b[0m\u001b[0;34m\"TOKEN\"\u001b[0m\u001b[0;34m,\u001b[0m \u001b[0;34m\"P(%s|token)\"\u001b[0m \u001b[0;34m%\u001b[0m \u001b[0mc\u001b[0m\u001b[0;34m)\u001b[0m\u001b[0;34m)\u001b[0m\u001b[0;34m\u001b[0m\u001b[0m\n\u001b[1;32m    146\u001b[0m         \u001b[0;32mfor\u001b[0m \u001b[0;34m(\u001b[0m\u001b[0mtoken\u001b[0m\u001b[0;34m,\u001b[0m \u001b[0mp\u001b[0m\u001b[0;34m)\u001b[0m \u001b[0;32min\u001b[0m \u001b[0mprobs\u001b[0m\u001b[0;34m[\u001b[0m\u001b[0;34m:\u001b[0m\u001b[0;36m10\u001b[0m\u001b[0;34m]\u001b[0m\u001b[0;34m:\u001b[0m\u001b[0;34m\u001b[0m\u001b[0m\n\u001b[0;32m--> 147\u001b[0;31m             \u001b[0mprint\u001b[0m\u001b[0;34m(\u001b[0m\u001b[0;34m\"{0:20} {1:.4f}\"\u001b[0m\u001b[0;34m.\u001b[0m\u001b[0mformat\u001b[0m\u001b[0;34m(\u001b[0m\u001b[0mtoken\u001b[0m\u001b[0;34m.\u001b[0m\u001b[0mencode\u001b[0m\u001b[0;34m(\u001b[0m\u001b[0;34m'utf8'\u001b[0m\u001b[0;34m)\u001b[0m\u001b[0;34m,\u001b[0m \u001b[0mp\u001b[0m\u001b[0;34m)\u001b[0m\u001b[0;34m)\u001b[0m\u001b[0;34m\u001b[0m\u001b[0m\n\u001b[0m\u001b[1;32m    148\u001b[0m         \u001b[0mprint\u001b[0m\u001b[0;34m(\u001b[0m\u001b[0;34m\"\"\u001b[0m\u001b[0;34m)\u001b[0m\u001b[0;34m\u001b[0m\u001b[0m\n\u001b[1;32m    149\u001b[0m \u001b[0;34m\u001b[0m\u001b[0m\n",
      "\u001b[0;31mTypeError\u001b[0m: unsupported format string passed to bytes.__format__"
     ]
    }
   ],
   "source": [
    "lib.most_discriminative(tweets, token_probs, prior_probs)\n"
   ]
  },
  {
   "cell_type": "markdown",
   "metadata": {},
   "source": [
    "These five lists show you which words are most predictive of the five categories. For example, the word _bottled_ is a very strong indicator that the tweet is about water or the word _canned_ is a very strong indicator that the tweet is about food.\n",
    "\n",
    "Many of you used several of these words in your rule-based classifiers in week 1. It's reassuring (and exciting!) to see that the Naive Bayes classifier learned that these words are good indicators of the categories as well.\n",
    "\n",
    "\n",
    "### Confusion matrix\n",
    "\n",
    "Another useful type of visualization is a so-called confusion matrix. A confusion matrix shows you for each true category _c_ how many of the tweets in _c_ were classified into the five different categories. (In this way it tells you which categories are \"confused\" for others by the classifier)."
   ]
  },
  {
   "cell_type": "code",
   "execution_count": 17,
   "metadata": {},
   "outputs": [
    {
     "data": {
      "text/html": [
       "<table border=\"1\" class=\"dataframe\">\n",
       "  <thead>\n",
       "    <tr style=\"text-align: right;\">\n",
       "      <th></th>\n",
       "      <th>Energy</th>\n",
       "      <th>Food</th>\n",
       "      <th>Medical</th>\n",
       "      <th>None</th>\n",
       "      <th>Water</th>\n",
       "    </tr>\n",
       "  </thead>\n",
       "  <tbody>\n",
       "    <tr>\n",
       "      <th>Energy</th>\n",
       "      <td>27</td>\n",
       "      <td>6</td>\n",
       "      <td>0</td>\n",
       "      <td>6</td>\n",
       "      <td>1</td>\n",
       "    </tr>\n",
       "    <tr>\n",
       "      <th>Food</th>\n",
       "      <td>2</td>\n",
       "      <td>119</td>\n",
       "      <td>1</td>\n",
       "      <td>6</td>\n",
       "      <td>1</td>\n",
       "    </tr>\n",
       "    <tr>\n",
       "      <th>Medical</th>\n",
       "      <td>2</td>\n",
       "      <td>5</td>\n",
       "      <td>6</td>\n",
       "      <td>0</td>\n",
       "      <td>0</td>\n",
       "    </tr>\n",
       "    <tr>\n",
       "      <th>None</th>\n",
       "      <td>13</td>\n",
       "      <td>3</td>\n",
       "      <td>1</td>\n",
       "      <td>62</td>\n",
       "      <td>0</td>\n",
       "    </tr>\n",
       "    <tr>\n",
       "      <th>Water</th>\n",
       "      <td>1</td>\n",
       "      <td>8</td>\n",
       "      <td>0</td>\n",
       "      <td>1</td>\n",
       "      <td>10</td>\n",
       "    </tr>\n",
       "  </tbody>\n",
       "</table>"
      ],
      "text/plain": [
       "<IPython.core.display.HTML object>"
      ]
     },
     "metadata": {},
     "output_type": "display_data"
    }
   ],
   "source": [
    "lib.show_confusion_matrix(predictions)\n"
   ]
  },
  {
   "cell_type": "markdown",
   "metadata": {},
   "source": [
    "In the matrix, the **rows** correspond to the **true category** and the **columns** correspond to the **predicted category**.\n",
    "\n",
    "For example, this matrix shows you that of all the 79 tweets in the category _None_, 13 were incorrectly classified as _Energy_, 3 as _Food_, and 1 as _Medical_. 62 of them were actually correctly classified as _None_.\n",
    "\n",
    "### Visualizing individual tweets\n",
    "\n",
    "It can also be really useful to visualize the probabilities of each token in an individual tweet. This can help you understand why a classifier made a correct or wrong prediction. We've implemented a visualization for you so that you can use to inspect how the classifier works on individual tweets."
   ]
  },
  {
   "cell_type": "code",
   "execution_count": 18,
   "metadata": {},
   "outputs": [
    {
     "data": {
      "text/html": [
       "\n",
       "    <div id=\"viz-overlay\" style=\"display:none;position:absolute;width:250px;height:110px;border: 1px solid #000; padding:8px;  background: #eee;\">\n",
       "\t<p>\n",
       "       <span style=\"color:orange;\">P(<span class=\"viz-token-placeholder\"></span> | food) = <span id=\"viz-p-food\"></span></span><br>\n",
       "\t   <span style=\"color:blue;\">P(<span class=\"viz-token-placeholder\"></span> | water) = <span id=\"viz-p-water\"></span><br>\n",
       "\t   <span style=\"color:green;\">P(<span class=\"viz-token-placeholder\"></span> | medical) = <span id=\"viz-p-medical\"></span><br>\n",
       "\t   <span style=\"color:red;\">P(<span class=\"viz-token-placeholder\"></span> | energy) = <span id=\"viz-p-energy\"></span><br>\n",
       "\t   <span style=\"color:gray;\">P(<span class=\"viz-token-placeholder\"></span> | none) = <span id=\"viz-p-none\"></span></p>\n",
       "    </p>\n",
       "    </div>\n",
       "\n",
       "    <div id=\"viz-tweet\" style=\"padding: 190px 0 0;\">\n",
       "    <span style=\"color: gray\" class=\"viz-token\" data-food=\"0.000000\" data-none=\"0.000000\" data-medical=\"0.000000\" data-energy=\"0.000000\" data-water=\"0.000000\">non-perishaable</span> <span style=\"color: orange\" class=\"viz-token\" data-food=\"0.708333\" data-none=\"0.213592\" data-medical=\"0.000000\" data-energy=\"0.021739\" data-water=\"0.049505\">food</span> <span style=\"color: orange\" class=\"viz-token\" data-food=\"0.623106\" data-none=\"0.161812\" data-medical=\"0.590909\" data-energy=\"0.485507\" data-water=\"0.445545\">,</span> <span style=\"color: orange\" class=\"viz-token\" data-food=\"0.081439\" data-none=\"0.012945\" data-medical=\"0.000000\" data-energy=\"0.000000\" data-water=\"0.019802\">hot</span> <span style=\"color: orange\" class=\"viz-token\" data-food=\"0.064394\" data-none=\"0.000000\" data-medical=\"0.000000\" data-energy=\"0.007246\" data-water=\"0.009901\">meals</span> <span style=\"color: orange\" class=\"viz-token\" data-food=\"0.623106\" data-none=\"0.161812\" data-medical=\"0.590909\" data-energy=\"0.485507\" data-water=\"0.445545\">,</span> <span style=\"color: orange\" class=\"viz-token\" data-food=\"0.145833\" data-none=\"0.032362\" data-medical=\"0.090909\" data-energy=\"0.079710\" data-water=\"0.059406\">or</span> <span style=\"color: orange\" class=\"viz-token\" data-food=\"0.125000\" data-none=\"0.000000\" data-medical=\"0.068182\" data-energy=\"0.057971\" data-water=\"0.059406\">hygiene</span> <span style=\"color: orange\" class=\"viz-token\" data-food=\"0.128788\" data-none=\"0.000000\" data-medical=\"0.090909\" data-energy=\"0.065217\" data-water=\"0.069307\">products</span> <p><strong>Predicted category: </strong> <span style=\"color: orange\"> Food</span><br><strong>True category: </strong> <span style=\"color: orange\"> Food</span></p>\n",
       "    </div>\n",
       "     <script type=\"text/javascript\">\n",
       "\t$(document).ready(function() {\n",
       "\t\t$(\"span.viz-token\").mouseover(function() {\n",
       "\t\t\t$(\"span.viz-token\").css({\"font-weight\": \"normal\"});\n",
       "\t\t\t$(this).css({\"font-weight\": \"bold\"});\n",
       "\t\t\t$(\"span.viz-token-placeholder\").text($(this).text());\n",
       "\t\t\t$(\"#viz-p-food\").text($(this).data(\"food\"));\n",
       "\t\t\t$(\"#viz-p-water\").text($(this).data(\"water\"));\n",
       "\t\t\t$(\"#viz-p-medical\").text($(this).data(\"medical\"));\n",
       "\t\t\t$(\"#viz-p-energy\").text($(this).data(\"energy\"));\n",
       "\t\t\t$(\"#viz-p-none\").text($(this).data(\"none\"));\n",
       "\t\t\t$(\"#viz-overlay\").show();\n",
       "\t\t\t$(\"#viz-overlay\").offset({left:$(this).offset().left-110+$(this).width()/2, top:$(this).offset().top - 140});\n",
       "\t\t});\n",
       "\t});\n",
       "    </script>\n",
       "\n",
       "    "
      ],
      "text/plain": [
       "<IPython.core.display.HTML object>"
      ]
     },
     "metadata": {},
     "output_type": "display_data"
    }
   ],
   "source": [
    "# The following code visualizes a random tweet from the test data. \n",
    "# Hover your mouse over the words!\n",
    "\n",
    "random_tweet = random.choice(test_tweets)\n",
    "lib.visualize_tweet(random_tweet, prior_probs, token_probs)\n"
   ]
  },
  {
   "cell_type": "markdown",
   "metadata": {},
   "source": [
    "The color of each word tells you for which category $P(\\text{token} \\mid \\text{category})$ is the highest. When you move the mouse over a word, it shows you the actual values of $P(\\text{token} \\mid \\text{category})$ for each category that the classifier uses to make its predictions.\n",
    "\n",
    "You can also have the classifier make a prediction on your own tweets. Change the text in `my_tweet` below and run the cell below to see what the classifier would predict."
   ]
  },
  {
   "cell_type": "code",
   "execution_count": 19,
   "metadata": {},
   "outputs": [
    {
     "data": {
      "text/html": [
       "\n",
       "    <div id=\"viz-overlay\" style=\"display:none;position:absolute;width:250px;height:110px;border: 1px solid #000; padding:8px;  background: #eee;\">\n",
       "\t<p>\n",
       "       <span style=\"color:orange;\">P(<span class=\"viz-token-placeholder\"></span> | food) = <span id=\"viz-p-food\"></span></span><br>\n",
       "\t   <span style=\"color:blue;\">P(<span class=\"viz-token-placeholder\"></span> | water) = <span id=\"viz-p-water\"></span><br>\n",
       "\t   <span style=\"color:green;\">P(<span class=\"viz-token-placeholder\"></span> | medical) = <span id=\"viz-p-medical\"></span><br>\n",
       "\t   <span style=\"color:red;\">P(<span class=\"viz-token-placeholder\"></span> | energy) = <span id=\"viz-p-energy\"></span><br>\n",
       "\t   <span style=\"color:gray;\">P(<span class=\"viz-token-placeholder\"></span> | none) = <span id=\"viz-p-none\"></span></p>\n",
       "    </p>\n",
       "    </div>\n",
       "\n",
       "    <div id=\"viz-tweet\" style=\"padding: 190px 0 0;\">\n",
       "    <span style=\"color: orange\" class=\"viz-token\" data-food=\"0.409091\" data-none=\"0.262136\" data-medical=\"0.272727\" data-energy=\"0.260870\" data-water=\"0.306931\">i</span> <span style=\"color: gray\" class=\"viz-token\" data-food=\"0.000000\" data-none=\"0.000000\" data-medical=\"0.000000\" data-energy=\"0.000000\" data-water=\"0.000000\">urgently</span> <span style=\"color: red\" class=\"viz-token\" data-food=\"0.130682\" data-none=\"0.025890\" data-medical=\"0.136364\" data-energy=\"0.181159\" data-water=\"0.069307\">need</span> <span style=\"color: orange\" class=\"viz-token\" data-food=\"0.094697\" data-none=\"0.016181\" data-medical=\"0.068182\" data-energy=\"0.050725\" data-water=\"0.049505\">some</span> <span style=\"color: blue\" class=\"viz-token\" data-food=\"0.001894\" data-none=\"0.003236\" data-medical=\"0.000000\" data-energy=\"0.000000\" data-water=\"0.207921\">bottled</span> <span style=\"color: blue\" class=\"viz-token\" data-food=\"0.017045\" data-none=\"0.035599\" data-medical=\"0.000000\" data-energy=\"0.028986\" data-water=\"0.881188\">water</span> <span style=\"color: orange\" class=\"viz-token\" data-food=\"0.596591\" data-none=\"0.453074\" data-medical=\"0.477273\" data-energy=\"0.543478\" data-water=\"0.544554\">.</span> <p><strong>Predicted category: </strong> <span style=\"color: blue\"> Water</span><br><strong>True category: </strong> <span style=\"color: black\"> ?</span></p>\n",
       "    </div>\n",
       "     <script type=\"text/javascript\">\n",
       "\t$(document).ready(function() {\n",
       "\t\t$(\"span.viz-token\").mouseover(function() {\n",
       "\t\t\t$(\"span.viz-token\").css({\"font-weight\": \"normal\"});\n",
       "\t\t\t$(this).css({\"font-weight\": \"bold\"});\n",
       "\t\t\t$(\"span.viz-token-placeholder\").text($(this).text());\n",
       "\t\t\t$(\"#viz-p-food\").text($(this).data(\"food\"));\n",
       "\t\t\t$(\"#viz-p-water\").text($(this).data(\"water\"));\n",
       "\t\t\t$(\"#viz-p-medical\").text($(this).data(\"medical\"));\n",
       "\t\t\t$(\"#viz-p-energy\").text($(this).data(\"energy\"));\n",
       "\t\t\t$(\"#viz-p-none\").text($(this).data(\"none\"));\n",
       "\t\t\t$(\"#viz-overlay\").show();\n",
       "\t\t\t$(\"#viz-overlay\").offset({left:$(this).offset().left-110+$(this).width()/2, top:$(this).offset().top - 140});\n",
       "\t\t});\n",
       "\t});\n",
       "    </script>\n",
       "\n",
       "    "
      ],
      "text/plain": [
       "<IPython.core.display.HTML object>"
      ]
     },
     "metadata": {},
     "output_type": "display_data"
    }
   ],
   "source": [
    "my_tweet = \"I urgently need some bottled water.\"\n",
    "\n",
    "lib.visualize_tweet(lib.Tweet(my_tweet, \"?\", \"\"), prior_probs, token_probs)\n"
   ]
  },
  {
   "cell_type": "markdown",
   "metadata": {},
   "source": [
    "## Error analysis: Figuring out remaining errors\n",
    "\n",
    "Often, one wants to know in which scenarios a classifier makes mistakes. This can be really useful when you want to improve your classifier.\n",
    "\n",
    "In this exercise, try to break the Naive Bayes classifier. Use the cell above and try to come up with a tweet which should be classified as _Food_ but which is assigned a different category. Once you find such a tweet, use the visualization to figure out why the classifier gets this example wrong.\n",
    "\n",
    "Repeat this exercise for all the other categories. Based on your observations, do you have any ideas on how to further improve the classifier?\n"
   ]
  }
 ],
 "metadata": {
  "anaconda-cloud": {},
  "kernelspec": {
   "display_name": "Python 3",
   "language": "python",
   "name": "python3"
  },
  "language_info": {
   "codemirror_mode": {
    "name": "ipython",
    "version": 3
   },
   "file_extension": ".py",
   "mimetype": "text/x-python",
   "name": "python",
   "nbconvert_exporter": "python",
   "pygments_lexer": "ipython3",
   "version": "3.6.4"
  }
 },
 "nbformat": 4,
 "nbformat_minor": 1
}
