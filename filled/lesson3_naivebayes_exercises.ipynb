{
 "cells": [
  {
   "cell_type": "code",
   "execution_count": 53,
   "metadata": {
    "collapsed": false
   },
   "outputs": [
    {
     "name": "stdout",
     "output_type": "stream",
     "text": [
      "The autoreload extension is already loaded. To reload it, use:\n",
      "  %reload_ext autoreload\n"
     ]
    }
   ],
   "source": [
    "# Run this every time you open the spreadsheet\n",
    "%load_ext autoreload\n",
    "%autoreload 2\n",
    "import lib"
   ]
  },
  {
   "cell_type": "markdown",
   "metadata": {},
   "source": [
    "# Load the content of the boxes"
   ]
  },
  {
   "cell_type": "code",
   "execution_count": 54,
   "metadata": {
    "collapsed": false,
    "scrolled": true
   },
   "outputs": [
    {
     "name": "stdout",
     "output_type": "stream",
     "text": [
      "Number of balls in box 1: 100\n",
      "Number of balls in box 2: 100\n"
     ]
    }
   ],
   "source": [
    "# Load the data.\n",
    "# This function returns box1 and box2, both lists of colors of the balls in each box\n",
    "box1, box2 = lib.get_box_contents()\n",
    "\n",
    "print(\"Number of balls in box 1: %d\" % len(box1))\n",
    "print(\"Number of balls in box 2: %d\" % len(box2))\n"
   ]
  },
  {
   "cell_type": "markdown",
   "metadata": {},
   "source": [
    "# Python concepts\n",
    "\n",
    "Let's review and look at some new Python concepts before we implement the box and ball examples.\n",
    "\n",
    "### Dictionaries\n",
    "In Python, a _dict_ is a collection of items in which each element can be accessed by a _key_. The _key_ is typically a string and the items can be of any data type, e.g., booleans, integers, strings. Each key can be used for only one item.\n",
    "\n",
    "You can create dictionaries like this:\n",
    "```\n",
    "west_coast_state_capitals = {\"California\": \"Sacramento\", \"Oregon\": \"Salem\", \"Washington\": \"Olympia\"}\n",
    "letter_counts = {\"a\": 2, \"b\": 2, \"e\": 1, \"s\": 1, \"d\": 1, \"i\": 1, \"n\": 1}\n",
    "```\n",
    "\n",
    "To access a value in a dictionary, use the name of the dictionary and put they _key_ in squared brackets:\n",
    "\n",
    "```\n",
    "west_coast_state_capitals[\"California\"] # returns \"Sacramento\"\n",
    "letter_counts[\"b\"] # returns 2\n",
    "```"
   ]
  },
  {
   "cell_type": "code",
   "execution_count": 41,
   "metadata": {
    "collapsed": false
   },
   "outputs": [
    {
     "name": "stdout",
     "output_type": "stream",
     "text": [
      "J.D. Salinger\n",
      "J.K. Rowling\n"
     ]
    }
   ],
   "source": [
    "# Exercise 1.\n",
    "# Create a dictionary called \"authors\" that maps the following book titles to their authors.\n",
    "#\n",
    "# Harry Potter - J.K. Rowling\n",
    "# The Casual Vacancy - J.K. Rowling\n",
    "# The Hunger Games - Suzanne Collins\n",
    "# Never Let Me Go - Kazuo Ishiguro\n",
    "# The Catcher in the Rye - J.D. Salinger\n",
    "#\n",
    "# Then print the author of \"The Catcher in the Rye\" and \"Harry Potter\" using your dictionary.\n",
    "\n",
    "#### YOUR CODE STARTS HERE ####\n",
    "\n",
    "authors = {\"Harry Potter\": \"J.K. Rowling\", \"The Casual Vacancy\": \"J.K. Rowling\", \n",
    "           \"The Hunger Games\": \"Suzanne Collins\", \"Never Let Me Go\": \"Kazuo Ishiguro\",\n",
    "           \"The Catcher in the Rye\": \"J.D. Salinger\"}\n",
    "\n",
    "print(authors[\"The Catcher in the Rye\"])\n",
    "print(authors[\"Harry Potter\"])\n",
    "\n",
    "#### YOUR CODE ENDS HERE ####\n"
   ]
  },
  {
   "cell_type": "markdown",
   "metadata": {},
   "source": [
    "#### Adding, updating, and deleting items from dictionaries\n",
    "\n",
    "You can also add, change and delete items after you created an dictionary. \n",
    "\n",
    "For example, the following code creates an empty dictionary _d_ and then adds two items to it.\n",
    "\n",
    "```\n",
    "d = {}\n",
    "d[\"a\"] = 1\n",
    "d[\"b\"] = 5\n",
    "\n",
    "print d # outputs {'a': 1, 'b': 5}\n",
    "```\n",
    "\n",
    "To update an item in a dictionary, simply assign a new value to it:\n",
    "\n",
    "```\n",
    "d = {}\n",
    "d[\"a\"] = 1\n",
    "d[\"b\"] = 5\n",
    "print d # outputs {'a': 1, 'b': 5}\n",
    "\n",
    "\n",
    "d[\"a\"] = 5\n",
    "print d # outputs {'a': 5, 'b': 5}\n",
    "```\n",
    "\n",
    "Tto delete an item from a dictionary, use the _del_ keyword as in the following snippet:\n",
    "\n",
    "```\n",
    "d = {}\n",
    "d[\"a\"] = 1\n",
    "d[\"b\"] = 5\n",
    "print d # outputs {'a': 1, 'b': 5}\n",
    "\n",
    "del d[\"a\"]\n",
    "print d # outputs {'b': 5}\n",
    "```"
   ]
  },
  {
   "cell_type": "code",
   "execution_count": 42,
   "metadata": {
    "collapsed": false
   },
   "outputs": [
    {
     "name": "stdout",
     "output_type": "stream",
     "text": [
      "{'a': 1, 'c': 3, 'b': 2, 'e': 5, 'd': 4, 'g': 7, 'f': 6, 'i': 9, 'h': 8, 'k': 11, 'j': 10, 'm': 13, 'l': 12, 'o': 15, 'n': 14, 'q': 17, 'p': 16, 's': 19, 'r': 18, 'u': 21, 't': 20, 'w': 23, 'v': 22, 'y': 25, 'x': 24, 'z': 26}\n",
      "{'a': 1, 'c': 3, 'b': 2, 'e': 5, 'd': 4, 'g': 7, 'f': 6, 'i': 9, 'h': 8, 'k': 11, 'j': 10, 'm': 13, 'l': 12, 'o': 15, 'n': 14, 'q': 17, 'p': 16, 's': 19, 'r': 18, 'u': 21, 't': 20, 'w': 23, 'v': 22, 'y': 25, 'x': 24, 'z': 26}\n"
     ]
    }
   ],
   "source": [
    "letters = ['a', 'b', 'c', 'd', 'e', 'f', 'g', 'h', 'i', 'j', 'k', 'l', 'm', \n",
    "           'n', 'o', 'p', 'q', 'r', 's', 't', 'u', 'v', 'w', 'x', 'y', 'z']\n",
    "\n",
    "\n",
    "# Exercise 2(a).\n",
    "# Create an empty dictionary called alphabet and using the above letters list, \n",
    "# add a dictionary entry for each letter mapping it to \n",
    "# its position in the alphabet. For example, the key \"c\" should map to the number 3. \n",
    "# Then print the final list.\n",
    "\n",
    "# Hints: \n",
    "# - Use an integer variable pos that stores the current position in the alphabet and increase its value \n",
    "#   every time you add an entry.\n",
    "# - Use a loop to go through all the letters in the letters list.\n",
    "\n",
    "#### YOUR CODE STARTS HERE ####\n",
    "\n",
    "pos = 1\n",
    "alphabet = dict()\n",
    "for letter in letters:\n",
    "  alphabet[letter] = pos\n",
    "  pos += 1\n",
    "\n",
    "print(alphabet)\n",
    "\n",
    "#### YOUR CODE ENDS HERE ####\n",
    "    \n",
    "# Exercise 2(b) (optional, advanced).\n",
    "# Take a look a the enumerate function (https://docs.python.org/2/library/functions.html#enumerate) and use this\n",
    "# function instead of manually incrementing the pos variable.\n",
    "\n",
    "#### YOUR CODE STARTS HERE ####\n",
    "\n",
    "alphabet = dict()\n",
    "for pos, letter in enumerate(letters):\n",
    "    alphabet[letter] = pos + 1\n",
    "\n",
    "print(alphabet)\n",
    "\n",
    "#### YOUR CODE ENDS HERE ####\n"
   ]
  },
  {
   "cell_type": "markdown",
   "metadata": {},
   "source": [
    "#### Checking whether a key exists\n",
    "\n",
    "\n",
    "Sometimes, it can be useful to check whether an item for a key exists in a dictionary. You can do that with the _in_ keyword:\n",
    "\n",
    "```\n",
    "\n",
    "d = {\"a\" : 1, \"b\": 2}\n",
    "\n",
    "if \"a\" in d:\n",
    "  print \"There is an item with the key \\\"a\\\" in d.\"\n",
    "else:\n",
    "  print \"There is no item with the key \\\"a\\\" in d.\"\n",
    "  \n",
    "if \"c\" in d:\n",
    "  print \"There is an item with the key \\\"c\\\" in d.\"\n",
    "else:\n",
    "  print \"There is no item with the key \\\"c\\\" in d.\"\n",
    "  \n",
    "```\n",
    "\n",
    "This program produces the following output:\n",
    "\n",
    "```\n",
    "There is an item with the key \"a\" in d.\n",
    "There is no item with the key \"c\" in d.\n",
    "```"
   ]
  },
  {
   "cell_type": "code",
   "execution_count": 55,
   "metadata": {
    "collapsed": false
   },
   "outputs": [
    {
     "name": "stdout",
     "output_type": "stream",
     "text": [
      "{'apricot': 3, 'plum': 2, 'apple': 4, 'banana': 1}\n"
     ]
    }
   ],
   "source": [
    "# Exercise 3. \n",
    "# Write a program that counts how many of each type of fruit are in the fruit basket. \n",
    "# Use a dictionary to store the counts and print the final counts.\n",
    "\n",
    "fruit_basket = [\"apple\", \"banana\", \"plum\", \"apple\", \"apricot\", \"plum\", \"apple\", \"apple\", \"apricot\", \"apricot\"]\n",
    "\n",
    "#### YOUR CODE STARTS HERE ####\n",
    "\n",
    "fruit_counts = dict()\n",
    "for fruit in fruit_basket:\n",
    "    if fruit not in fruit_counts:\n",
    "        fruit_counts[fruit] = 0\n",
    "    fruit_counts[fruit] +=1\n",
    "\n",
    "print(fruit_counts)\n",
    "\n",
    "#### YOUR CODE ENDS HERE ####\n"
   ]
  },
  {
   "cell_type": "markdown",
   "metadata": {},
   "source": [
    "### Counter\n",
    "\n",
    "As you noticed in the previous exercise, you always have to check whether a count already exists before you can increase its value. Fortunately, Python comes with a special dictionary type, the _Counter_ type, which makes it easier to work with counts.\n",
    "\n",
    "\n",
    "A Counter works just like a dictionary but instead of giving an error when you use a key for which no entry exists, it will return 0.\n",
    "\n",
    "To use Counters, you first have to run the following import statement.\n",
    "\n",
    "```\n",
    "from collections import Counter\n",
    "```\n",
    "\n",
    "Then you can create a new Counter as follows:\n",
    "\n",
    "```\n",
    "my_counter = Counter()\n",
    "\n",
    "print my_counter[\"something\"] # outputs 0 \n",
    "\n",
    "my_counter[\"something\"] += 1\n",
    "\n",
    "print my_counter[\"something\"] # outputs 1 \n",
    "\n",
    "```\n"
   ]
  },
  {
   "cell_type": "code",
   "execution_count": 56,
   "metadata": {
    "collapsed": false
   },
   "outputs": [
    {
     "name": "stdout",
     "output_type": "stream",
     "text": [
      "Counter({'apple': 4, 'apricot': 3, 'plum': 2, 'banana': 1})\n"
     ]
    }
   ],
   "source": [
    "# Exercise 4.\n",
    "# Re-implement the program from Exercise 3 using a counter object.\n",
    "\n",
    "from collections import Counter\n",
    "fruit_basket = [\"apple\", \"banana\", \"plum\", \"apple\", \"apricot\", \"plum\", \"apple\", \"apple\", \"apricot\", \"apricot\"]\n",
    "\n",
    "#### YOUR CODE STARTS HERE ####\n",
    "\n",
    "fruit_counts = Counter()\n",
    "for fruit in fruit_basket:\n",
    "    fruit_counts[fruit] +=1\n",
    "\n",
    "print(fruit_counts)\n",
    "\n",
    "#### YOUR CODE ENDS HERE ####\n",
    "\n"
   ]
  },
  {
   "cell_type": "markdown",
   "metadata": {},
   "source": [
    "### Turning lists into Counters\n",
    "\n",
    "Counters come with several other userful features. One of them is that you can automatically turn a list into a counter. For example, the following snippet counts how many of each letter there are in the list my_letters.\n",
    "\n",
    "```\n",
    "my_letters = [\"a\", \"b\", \"b\", \"c\", \"c\", \"c\", \"d\", \"d\", \"d\", \"d\"]\n",
    "letter_counter = Counter(my_letters)\n",
    "\n",
    "print letter_counter # ouputs Counter({'d': 4, 'c': 3, 'b': 2, 'a': 1})\n",
    "```\n"
   ]
  },
  {
   "cell_type": "code",
   "execution_count": 57,
   "metadata": {
    "collapsed": false
   },
   "outputs": [
    {
     "name": "stdout",
     "output_type": "stream",
     "text": [
      "Counter({'apple': 4, 'apricot': 3, 'plum': 2, 'banana': 1})\n"
     ]
    }
   ],
   "source": [
    "# Exercise 5.\n",
    "# Re-implment the program from Exercise 3 without using a for loop.\n",
    "\n",
    "from collections import Counter\n",
    "fruit_basket = [\"apple\", \"banana\", \"plum\", \"apple\", \"apricot\", \"plum\", \"apple\", \"apple\", \"apricot\", \"apricot\"]\n",
    "\n",
    "#### YOUR CODE STARTS HERE ####\n",
    "\n",
    "fruit_counts = Counter(fruit_basket)\n",
    "print(fruit_counts)\n",
    "\n",
    "#### YOUR CODE ENDS HERE ####\n"
   ]
  },
  {
   "cell_type": "markdown",
   "metadata": {},
   "source": [
    "### Iterating through counters\n",
    "\n",
    "Sometimes you want to iterate through all items in a counter. If you use a for-loop with a Counter, it will loop through all keys.\n",
    "\n",
    "\n",
    "```\n",
    "my_counter = Counter({'d': 4, 'c': 3, 'b': 2, 'a': 1})\n",
    "\n",
    "for key in my_counter:\n",
    "  print key\n",
    "\n",
    "```\n",
    "\n",
    "This program will print something like: (the order may vary)\n",
    "\n",
    "```\n",
    "a\n",
    "c\n",
    "b\n",
    "d\n",
    "```\n",
    "\n",
    "You can also get a list of all values stored in a Counter using the _.values()_ method. This can be really useful if you want to compute a sum across all values.\n",
    "\n",
    "```\n",
    "my_counter = Counter({'d': 4, 'c': 3, 'b': 2, 'a': 1})\n",
    "\n",
    "vals = my_counter.values()\n",
    "\n",
    "print vals # outputs [4, 3, 2, 1] (the order may vary)\n",
    "\n",
    "total = sum(vals)\n",
    "print total # outputs 10\n",
    "\n",
    "```\n",
    "\n",
    "\n",
    "### Dividing integers in Python\n",
    "\n",
    "One of the pecularities of Python (and some other programming languages) is that if you divide two integers, it will always return the results rounded down to the next integer and never a decimal number.\n",
    "\n",
    "For example, if you compute 1/2, it will return 0.\n",
    "\n",
    "This can be particularly problematic when we are dealing with fractions or percentatages, as we often do when we compute probabilities. The easiest way to get around this is by turning one of the two numbers into a decimal number by multiplying it by \"1.0\". This will change the representation of the number from an integer to a decimal number and when you then run the division, it will return a decimal. For example, consider the following two divisions:\n",
    "\n",
    "\n",
    "```\n",
    "my_counter = Counter({'d': 4, 'c': 3, 'b': 2, 'a': 1})\n",
    "\n",
    "vals = my_counter.values()\n",
    "\n",
    "total = sum(vals)\n",
    "print my_counter[\"a\"] / total\n",
    "\n",
    "total = sum(vals) * 1.0\n",
    "print my_counter[\"a\"] / total\n",
    "\n",
    "```\n",
    "\n",
    "This program will produce the following output:\n",
    "\n",
    "```\n",
    "0\n",
    "0.1\n",
    "```\n"
   ]
  },
  {
   "cell_type": "code",
   "execution_count": 69,
   "metadata": {
    "collapsed": false,
    "scrolled": false
   },
   "outputs": [
    {
     "name": "stdout",
     "output_type": "stream",
     "text": [
      "Counter({'cat': 0.4, 'dog': 0.3, 'lizard': 0.1, 'parrot': 0.1, 'snake': 0.1})\n",
      "Testing: fraction of cats = 0.4\n",
      "CORRECT\n"
     ]
    }
   ],
   "source": [
    "# Exercise 6.\n",
    "# Compute the fraction of each type of animal (e.g., the fraction of lizards = 1/10 = 0.1) and store them in the counter\n",
    "# \"fractions\".\n",
    "\n",
    "my_pets = ['cat', 'lizard', 'cat', 'dog', 'cat', 'snake', 'dog', 'cat', 'dog', 'parrot']\n",
    "\n",
    "#### YOUR CODE STARTS HERE ####\n",
    "\n",
    "fractions = Counter(my_pets)\n",
    "total = sum(fractions.values()) * 1.0\n",
    "for pet in fractions:\n",
    "    fractions[pet] /= total\n",
    "\n",
    "print(fractions)\n",
    "#### YOUR CODE ENDS HERE ####\n",
    "\n",
    "print(\"Testing: fraction of cats = %.1f\" % fractions[\"cat\"])\n",
    "print(\"CORRECT\" if fractions[\"cat\"] ==.4 else \"INCORRECT\")"
   ]
  },
  {
   "cell_type": "markdown",
   "metadata": {},
   "source": [
    "## Applying Bayes rule: Which box did a ball come from?\n",
    "\n",
    "In this exercise, we are interested in figuring out from which of the two boxes a ball of a certain color most likely came from. We are using Bayes rule to compute the probbaility of box 1 and box 2 given a ball of certain color and then we compare which one of these two probabilities is bigger.\n",
    "\n",
    "\n",
    "**Step 1**: Inspect the data. How many different colors are there? How many balls of each color are in box 1 and in box 2?\n",
    "\n",
    "Hint: Turn _box1_ and _box2_ into Counters and print them.\n",
    "\n"
   ]
  },
  {
   "cell_type": "code",
   "execution_count": 48,
   "metadata": {
    "collapsed": false
   },
   "outputs": [
    {
     "name": "stdout",
     "output_type": "stream",
     "text": [
      "Counter({'blue': 39, 'green': 27, 'orange': 23, 'red': 10, 'yellow': 1})\n",
      "Counter({'red': 53, 'yellow': 25, 'green': 9, 'orange': 8, 'blue': 5})\n"
     ]
    }
   ],
   "source": [
    "#### YOUR CODE STARTS HERE ####\n",
    "print(Counter(box1))\n",
    "print(Counter(box2))\n",
    "\n",
    "#### YOUR CODE ENDS HERE ####\n",
    "\n"
   ]
  },
  {
   "cell_type": "markdown",
   "metadata": {},
   "source": [
    "**Step 2**: Compute the probability of each color in box 1 and each color in box 2, i.e., compute $P(color\\mid box1)$ and $P(color \\mid box2)$ for each of the five colors. Store them in the counters p_box1 and p_box2.\n",
    "\n",
    "For example, you can compute the probability of picking a red ball from box 1 as:\n",
    "\n",
    "$$P(red\\mid box1) = \\frac{\\mbox{number of red balls in box 1}}{\\mbox{total number of balls in box 1}}$$\n"
   ]
  },
  {
   "cell_type": "code",
   "execution_count": 49,
   "metadata": {
    "collapsed": false
   },
   "outputs": [],
   "source": [
    "#p_box1 = ...\n",
    "#p_box2 = ...\n",
    "\n",
    "\n",
    "p_box1 = Counter(box1)\n",
    "p_box2 = Counter(box2)\n",
    "\n",
    "n_box1 = sum(p_box1.values()) * 1.0\n",
    "n_box2 = sum(p_box2.values()) * 1.0\n",
    "\n",
    "\n",
    "for color in p_box1:\n",
    "    p_box1[color] /= n_box1\n",
    "\n",
    "for color in p_box2:\n",
    "    p_box2[color] /= n_box2\n",
    "\n",
    "\n"
   ]
  },
  {
   "cell_type": "markdown",
   "metadata": {},
   "source": [
    "**Step 3**: Now that we have the conditional probabilities for each color, we can apply Bayes rule to compute which box a ball of a certain color most likely came from. Fill in the blanks in this function.\n",
    "\n",
    "As a reminder, the probability $P(box\\mid color)$ is proportional to\n",
    "\n",
    "$$P(box \\mid color) \\propto P(box) \\times P(color\\mid box)$$"
   ]
  },
  {
   "cell_type": "code",
   "execution_count": 50,
   "metadata": {
    "collapsed": false
   },
   "outputs": [
    {
     "name": "stdout",
     "output_type": "stream",
     "text": [
      "Balls in Box 1:\n",
      "Counter({'blue': 39, 'green': 27, 'orange': 23, 'red': 10, 'yellow': 1})\n",
      "Balls in Box 2:\n",
      "Counter({'red': 53, 'yellow': 25, 'green': 9, 'orange': 8, 'blue': 5})\n",
      "\n",
      "A red ball most likely came from Box 2\n",
      "A green ball most likely came from Box 1\n",
      "A blue ball most likely came from Box 1\n",
      "A yellow ball most likely came from Box 2\n",
      "A orange ball most likely came from Box 1\n"
     ]
    }
   ],
   "source": [
    "\n",
    "#### YOUR CODE STARTS HERE ####\n",
    "\n",
    "\n",
    "def likeliest_box(color):\n",
    "    \n",
    "    \n",
    "    # The probability that someone picked a ball from box 1 or from box 2\n",
    "    # If we set both of these to 0.5, then this means that a box was chosen completely at random\n",
    "    # Modify these values to see how the likelihood of the two boxes changes.\n",
    "    prior_box1 = 0.5\n",
    "    prior_box2 = 0.5\n",
    "    \n",
    "\n",
    "    # P(box1 | color) is proportional to P(color | box1) * P(box1)\n",
    "    # Hint use the prior_box1 variable and the p_box1 counter from the cell above.\n",
    "    p_box1_color = p_box1[color] * prior_box1\n",
    "    p_box2_color = p_box2[color] * prior_box2\n",
    "    \n",
    "    \n",
    "    # Which of the two boxes is likelier? Complete the following if statement\n",
    "    # such that likely_box is assigned Box 1 if the ball came most likely form Box 1\n",
    "    # and Box 2 if it most likely came from the other box.\n",
    "    if p_box1_color > p_box2_color:\n",
    "        likely_box = \"Box 1\"\n",
    "    else:\n",
    "        likely_box = \"Box 2\"\n",
    "        \n",
    "    return likely_box\n",
    "\n",
    "#### YOUR CODE ENDS HERE ####\n",
    "\n",
    "\n",
    "\n",
    "print(\"Balls in Box 1:\")\n",
    "print(Counter(box1))\n",
    "print(\"Balls in Box 2:\")\n",
    "print(Counter(box2))\n",
    "\n",
    "print(\"\")\n",
    "\n",
    "colors = [\"red\", \"green\", \"blue\", \"yellow\", \"orange\"]\n",
    "\n",
    "for color in colors:\n",
    "    print(\"A %s ball most likely came from %s\" % (color, likeliest_box(color)))\n"
   ]
  },
  {
   "cell_type": "markdown",
   "metadata": {},
   "source": [
    "## Which box did a sequence of balls most likely come from?\n",
    "\n",
    "Now we are interested in a different question. We know that someone drew several balls from a single box, but we don't know from which one of the two. In other words, given a **list** of balls, we want to determine their likeliest origin.\n",
    "\n",
    "The conditional probabilities remain the same, so all you have to do for this exercise is rewrite the *likeliest_box* function below.\n",
    "\n",
    "As a reminder, $P(box \\mid color_1, color_2, color_3, ...)$ is proportional to\n",
    "\n",
    "$$P(box \\mid color_1, color_2, color_3, ...) \\propto P(box) \\times P(box \\mid color_1) \\times P(box \\mid color_2) \\times P(box \\mid color_3) \\times ...$$\n",
    "\n"
   ]
  },
  {
   "cell_type": "code",
   "execution_count": 51,
   "metadata": {
    "collapsed": false
   },
   "outputs": [
    {
     "name": "stdout",
     "output_type": "stream",
     "text": [
      "Balls in Box 1:\n",
      "Counter({'blue': 39, 'green': 27, 'orange': 23, 'red': 10, 'yellow': 1})\n",
      "Balls in Box 2:\n",
      "Counter({'red': 53, 'yellow': 25, 'green': 9, 'orange': 8, 'blue': 5})\n",
      "\n",
      "The sequence red most likely came from Box 2\n",
      "The sequence green most likely came from Box 1\n",
      "The sequence blue most likely came from Box 1\n",
      "The sequence yellow most likely came from Box 2\n",
      "The sequence orange most likely came from Box 1\n",
      "The sequence red, red, green most likely came from Box 2\n",
      "The sequence red, green, green most likely came from Box 1\n",
      "The sequence blue, red, green, yellow, blue, yellow, yellow most likely came from Box 2\n",
      "The sequence yellow, orange most likely came from Box 2\n",
      "The sequence yellow, green most likely came from Box 2\n",
      "The sequence yellow, green, green, green, green most likely came from Box 1\n"
     ]
    }
   ],
   "source": [
    "#### YOUR CODE STARTS HERE ####\n",
    "\n",
    "\n",
    "def likeliest_box(colors):\n",
    "    \n",
    "    \n",
    "    # The probability that someone picked a ball from box 1 or from box 2\n",
    "    # If we set both of these to 0.5, then this means that a box was chosen completely at random\n",
    "    # Modify these values to see how the likelihood of the two boxes changes.\n",
    "    prior_box1 = 0.5\n",
    "    prior_box2 = 0.5\n",
    "    \n",
    "\n",
    "    # P(box1 | color1, color2, color3, ...) is proportional to \n",
    "    #      P(box1) * P(color1 | box1)  * P(color2 | box1) * P(color3 | box1) * ...\n",
    "    # Hint use the prior_box1 variable and the p_box1 counter from above.\n",
    "    p_box1_colors = prior_box1\n",
    "    p_box2_colors = prior_box2\n",
    "    \n",
    "    \n",
    "    for color in colors:\n",
    "        p_box1_colors *= p_box1[color]\n",
    "        p_box2_colors *= p_box2[color]\n",
    "        \n",
    "    # Which of the two boxes is likelier? Complete the following if statement.\n",
    "    if p_box1_colors > p_box2_colors:\n",
    "        likely_box = \"Box 1\"\n",
    "    else:\n",
    "        likely_box = \"Box 2\"\n",
    "        \n",
    "    return likely_box\n",
    "\n",
    "#### YOUR CODE ENDS HERE ####\n",
    "\n",
    "\n",
    "\n",
    "print(\"Balls in Box 1:\")\n",
    "print(Counter(box1))\n",
    "print(\"Balls in Box 2:\")\n",
    "print(Counter(box2))\n",
    "\n",
    "print(\"\")\n",
    "\n",
    "sequences = [[\"red\"], [\"green\"], [\"blue\"], [\"yellow\"], [\"orange\"],\n",
    "            [\"red\", \"red\", \"green\"],\n",
    "            [\"red\", \"green\", \"green\"],\n",
    "            [\"blue\", \"red\", \"green\", \"yellow\", \"blue\", \"yellow\", \"yellow\"],\n",
    "            [\"yellow\", \"orange\"],\n",
    "            [\"yellow\", \"green\"],\n",
    "            [\"yellow\", \"green\", \"green\", \"green\", \"green\"]]\n",
    "\n",
    "for seq in sequences:\n",
    "    print(\"The sequence %s most likely came from %s\" % (\", \".join(seq), likeliest_box(seq)))\n"
   ]
  },
  {
   "cell_type": "markdown",
   "metadata": {},
   "source": [
    "### Optional Challenge:  More boxes!\n",
    "\n",
    "Up until now, we always assumed that there were just 2 boxes. But all of this can be extended to more boxes as well!\n",
    "\n",
    "Re-implement the computation of probabilities for four boxes and implement a new *likeliest_box* method that can deal with more than two boxes.\n",
    "\n",
    "This is a very challenging and open-ended problem. Think about how you could solve this and feel free to talk this through with us before you start implementing it.\n",
    "\n",
    "Hint: One useful function for *likeliest_box* might be the *argmax* function (https://docs.scipy.org/doc/numpy/reference/generated/numpy.argmax.html)."
   ]
  },
  {
   "cell_type": "code",
   "execution_count": 52,
   "metadata": {
    "collapsed": false
   },
   "outputs": [
    {
     "name": "stdout",
     "output_type": "stream",
     "text": [
      "Box 1 has 100 balls.\n",
      "Box 2 has 100 balls.\n",
      "Box 3 has 100 balls.\n",
      "Box 4 has 100 balls.\n",
      "The sequence red most likely came from Box 2\n",
      "The sequence green most likely came from Box 1\n",
      "The sequence blue most likely came from Box 1\n",
      "The sequence yellow most likely came from Box 3\n",
      "The sequence orange most likely came from Box 4\n",
      "The sequence red, red, green most likely came from Box 2\n",
      "The sequence red, green, green most likely came from Box 1\n",
      "The sequence blue, red, green, yellow, blue, yellow, yellow most likely came from Box 3\n",
      "The sequence yellow, orange most likely came from Box 4\n",
      "The sequence yellow, green most likely came from Box 2\n",
      "The sequence yellow, green, green, green, green most likely came from Box 1\n"
     ]
    }
   ],
   "source": [
    "from numpy import argmax\n",
    "\n",
    "number_of_boxes = 4\n",
    "\n",
    "boxes = lib.get_box_contents(n_boxes = number_of_boxes)\n",
    "\n",
    "for i, box in enumerate(boxes):\n",
    "    print(\"Box %d has %d balls.\" % (i + 1, len(box)))\n",
    "    \n",
    "    \n",
    "#### YOUR CODE STARTS HERE ####\n",
    "\n",
    "#estimate the conditional probabilities for each box\n",
    "\n",
    "p_box = []\n",
    "for box in boxes:\n",
    "    p_current_box = Counter(box)\n",
    "    n = sum(p_current_box.values()) * 1.0\n",
    "\n",
    "    for color in p_current_box:\n",
    "        p_current_box[color] /= n\n",
    "\n",
    "    p_box.append(p_current_box)\n",
    "\n",
    "#### YOUR CODE ENDS HERE ####\n",
    "\n",
    "\n",
    "def likeliest_box(colors):\n",
    "\n",
    "    #### YOUR CODE STARTS HERE ####\n",
    "\n",
    "    priors = []\n",
    "    for box in boxes:\n",
    "        priors.append(1.0 / len(boxes))\n",
    "    \n",
    "    scores = []\n",
    "    for i, box in enumerate(boxes):\n",
    "        score = priors[i]    \n",
    "        for color in colors:\n",
    "            score *= p_box[i][color]\n",
    "        \n",
    "        scores.append(score)\n",
    "    \n",
    "    likeliest_box = argmax(scores) + 1\n",
    "    \n",
    "    return \"Box %d\" % likeliest_box\n",
    "  \n",
    "    #### YOUR CODE ENDS HERE ####\n",
    "\n",
    "\n",
    "sequences = [[\"red\"], [\"green\"], [\"blue\"], [\"yellow\"], [\"orange\"],\n",
    "            [\"red\", \"red\", \"green\"],\n",
    "            [\"red\", \"green\", \"green\"],\n",
    "            [\"blue\", \"red\", \"green\", \"yellow\", \"blue\", \"yellow\", \"yellow\"],\n",
    "            [\"yellow\", \"orange\"],\n",
    "            [\"yellow\", \"green\"],\n",
    "            [\"yellow\", \"green\", \"green\", \"green\", \"green\"]]\n",
    "\n",
    "for seq in sequences:\n",
    "    print(\"The sequence %s most likely came from %s\" % (\", \".join(seq), likeliest_box(seq)))\n"
   ]
  }
 ],
 "metadata": {
  "anaconda-cloud": {},
  "kernelspec": {
   "display_name": "Python 3",
   "language": "python",
   "name": "python3"
  },
  "language_info": {
   "codemirror_mode": {
    "name": "ipython",
    "version": 3
   },
   "file_extension": ".py",
   "mimetype": "text/x-python",
   "name": "python",
   "nbconvert_exporter": "python",
   "pygments_lexer": "ipython3"
  }
 },
 "nbformat": 4,
 "nbformat_minor": 1
}
